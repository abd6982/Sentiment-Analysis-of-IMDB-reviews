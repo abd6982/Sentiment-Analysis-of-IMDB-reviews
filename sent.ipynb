{
 "cells": [
  {
   "cell_type": "code",
   "execution_count": 2,
   "metadata": {},
   "outputs": [
    {
     "name": "stderr",
     "output_type": "stream",
     "text": [
      "C:\\Anaconda3\\lib\\site-packages\\sklearn\\cross_validation.py:44: DeprecationWarning: This module was deprecated in version 0.18 in favor of the model_selection module into which all the refactored classes and functions are moved. Also note that the interface of the new CV iterators are different from that of this module. This module will be removed in 0.20.\n",
      "  \"This module will be removed in 0.20.\", DeprecationWarning)\n"
     ]
    }
   ],
   "source": [
    "import numpy as np\n",
    "import pandas as pd\n",
    "from nltk.corpus import stopwords, brown\n",
    "from nltk.tokenize import word_tokenize, sent_tokenize\n",
    "from nltk.stem import PorterStemmer, WordNetLemmatizer\n",
    "import sys\n",
    "from bs4 import BeautifulSoup\n",
    "import re\n",
    "from sklearn import naive_bayes\n",
    "from sklearn.metrics import accuracy_score, classification_report\n",
    "from sklearn.feature_extraction.text import CountVectorizer, TfidfTransformer\n",
    "from sklearn.cross_validation import train_test_split\n",
    "from sklearn.pipeline import Pipeline\n",
    "from sklearn.svm import SVC\n",
    "from sklearn.linear_model import LogisticRegression\n",
    "import matplotlib.pyplot as plt\n",
    "%matplotlib inline"
   ]
  },
  {
   "cell_type": "code",
   "execution_count": 3,
   "metadata": {
    "collapsed": true
   },
   "outputs": [],
   "source": [
    "data = pd.read_csv('labeledTrainData.tsv', delimiter = '\\t', quoting = 3)"
   ]
  },
  {
   "cell_type": "code",
   "execution_count": 4,
   "metadata": {
    "collapsed": true
   },
   "outputs": [],
   "source": [
    "#train = train[:10000]\n",
    "data = data.drop(['id'], axis = 1)"
   ]
  },
  {
   "cell_type": "code",
   "execution_count": 5,
   "metadata": {
    "collapsed": true
   },
   "outputs": [],
   "source": [
    "#tokenization\n",
    "data[\"review\"] = [re.sub(\"[^A-Za-z]\", \" \", BeautifulSoup(w, 'html.parser').get_text()).lower().split() for w in data[\"review\"]]"
   ]
  },
  {
   "cell_type": "code",
   "execution_count": 6,
   "metadata": {
    "collapsed": true
   },
   "outputs": [],
   "source": [
    "#remove stopwords\n",
    "stop_words = set(stopwords.words(\"english\"))\n",
    "lemmatizer = WordNetLemmatizer()\n",
    "data[\"review\"] = [[lemmatizer.lemmatize(w) for w in sentence if lemmatizer.lemmatize(w) not in stop_words] for sentence in data[\"review\"]]"
   ]
  },
  {
   "cell_type": "code",
   "execution_count": 7,
   "metadata": {
    "collapsed": true
   },
   "outputs": [],
   "source": [
    "reviews = [\" \".join(w) for w in data[\"review\"]]\n",
    "trainX, testX, trainY, testY = train_test_split(reviews, data[\"sentiment\"], test_size = 0.2)"
   ]
  },
  {
   "cell_type": "code",
   "execution_count": 8,
   "metadata": {
    "collapsed": true
   },
   "outputs": [],
   "source": [
    "#pipeline = Pipeline([('bow', CountVectorizer()), ('tfidf', TfidfTransformer()), ('classifier', naive_bayes.MultinomialNB())])\n",
    "pipeline = Pipeline([('bow', CountVectorizer()), ('tfidf', TfidfTransformer()), ('classifier', LogisticRegression())])"
   ]
  },
  {
   "cell_type": "code",
   "execution_count": 9,
   "metadata": {},
   "outputs": [
    {
     "data": {
      "text/plain": [
       "Pipeline(steps=[('bow', CountVectorizer(analyzer='word', binary=False, decode_error='strict',\n",
       "        dtype=<class 'numpy.int64'>, encoding='utf-8', input='content',\n",
       "        lowercase=True, max_df=1.0, max_features=None, min_df=1,\n",
       "        ngram_range=(1, 1), preprocessor=None, stop_words=None,\n",
       "        strip_...ty='l2', random_state=None, solver='liblinear', tol=0.0001,\n",
       "          verbose=0, warm_start=False))])"
      ]
     },
     "execution_count": 9,
     "metadata": {},
     "output_type": "execute_result"
    }
   ],
   "source": [
    "pipeline.fit(trainX, trainY)"
   ]
  },
  {
   "cell_type": "code",
   "execution_count": 20,
   "metadata": {},
   "outputs": [],
   "source": [
    "ans = pipeline.predict(trainX)\n",
    "ans2 = pipeline.predict(testX)"
   ]
  },
  {
   "cell_type": "code",
   "execution_count": 12,
   "metadata": {},
   "outputs": [
    {
     "name": "stdout",
     "output_type": "stream",
     "text": [
      "93.595\n",
      "89.42\n"
     ]
    }
   ],
   "source": [
    "print(accuracy_score(ans, trainY) * 100)\n",
    "print(accuracy_score(ans2, testY) * 100)"
   ]
  },
  {
   "cell_type": "code",
   "execution_count": 13,
   "metadata": {},
   "outputs": [
    {
     "name": "stdout",
     "output_type": "stream",
     "text": [
      "             precision    recall  f1-score   support\n",
      "\n",
      "          0       0.94      0.93      0.94      9991\n",
      "          1       0.93      0.95      0.94     10009\n",
      "\n",
      "avg / total       0.94      0.94      0.94     20000\n",
      "\n",
      "             precision    recall  f1-score   support\n",
      "\n",
      "          0       0.90      0.89      0.89      2509\n",
      "          1       0.89      0.90      0.89      2491\n",
      "\n",
      "avg / total       0.89      0.89      0.89      5000\n",
      "\n"
     ]
    }
   ],
   "source": [
    "print(classification_report(trainY, ans))\n",
    "print(classification_report(testY, ans2))"
   ]
  },
  {
   "cell_type": "code",
   "execution_count": 57,
   "metadata": {},
   "outputs": [
    {
     "name": "stdout",
     "output_type": "stream",
     "text": [
      "Negative\n"
     ]
    }
   ],
   "source": [
    "cX = ['''The vibe k5 note comes with a 5.5 inch full hd display along with a Helio P10 mediatek octa core chip and couples with a 4gb ram with the vibe user interface. It has Dolby Atmos sound system inbuilt. It has a 13mp camera at the rear and a 8mp front camera.Now coming to the review\n",
    "\n",
    "Design: it has a full metal unibody which doesn't feel premium and the finger print sensor is situated just below the camera .To be honest the design seems pretty boring and seems to look like just a budget phone which doesn't feel premium.\n",
    "\n",
    "Performance: The p10 chip from mediatek was never for heavy gaming although it does give a decent gaming performance for games like Candy Crush, Fruit Ninja and others but it does take some time to load. But for daily use it should be just fine.\n",
    "\n",
    "Battery: Battery is more on towards the lower side it has a 3000mah one which lasts for about 5hours on heavy usage and on normal usage 7-8 hours which is ok for people who don't use the phone for gaming, browsing for long times, etc. But for general use its pretty decent.\n",
    "\n",
    "Camera: the 13mp rear camera was giving some great photos when under adequate amount of light but it did show us a lot of pixels here and there when under low lighting conditions.\n",
    "\n",
    "Sound output: with the Dolby Atmos speakers it gives crisp and loud volumes which makes it great for music lovers.\n",
    "\n",
    "Overall: if not for the bugs in vibe user interface and the poor low light performance I do not recommend this phone as the user interface hangs alot.\n",
    "''']\n",
    "if((pipeline.predict(cX)[0])):\n",
    "    print(\"Positive\")\n",
    "else:\n",
    "    print(\"Negative\")"
   ]
  },
  {
   "cell_type": "code",
   "execution_count": null,
   "metadata": {
    "collapsed": true
   },
   "outputs": [],
   "source": []
  }
 ],
 "metadata": {
  "kernelspec": {
   "display_name": "Python 3",
   "language": "python",
   "name": "python3"
  },
  "language_info": {
   "codemirror_mode": {
    "name": "ipython",
    "version": 3
   },
   "file_extension": ".py",
   "mimetype": "text/x-python",
   "name": "python",
   "nbconvert_exporter": "python",
   "pygments_lexer": "ipython3",
   "version": "3.6.1"
  }
 },
 "nbformat": 4,
 "nbformat_minor": 2
}
